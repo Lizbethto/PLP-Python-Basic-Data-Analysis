{
 "cells": [
  {
   "cell_type": "markdown",
   "id": "96c538e3",
   "metadata": {},
   "source": [
    "\n",
    "# 📊 Analyzing Data with Pandas and Visualizing Results with Matplotlib\n",
    "\n",
    "This notebook demonstrates how to:\n",
    "- Load and explore a dataset using **pandas**\n",
    "- Perform basic data analysis (descriptive statistics and groupings)\n",
    "- Visualize results using **matplotlib** and **seaborn**\n",
    "- Handle errors and clean data where necessary\n",
    "\n",
    "We will use the classic **Iris dataset** for this analysis.\n"
   ]
  },
  {
   "cell_type": "code",
   "execution_count": null,
   "id": "5b094445",
   "metadata": {},
   "outputs": [],
   "source": [
    "\n",
    "import pandas as pd\n",
    "import matplotlib.pyplot as plt\n",
    "import seaborn as sns\n",
    "from sklearn.datasets import load_iris\n"
   ]
  },
  {
   "cell_type": "markdown",
   "id": "e7f001f6",
   "metadata": {},
   "source": [
    "\n",
    "## 🔹 Task 1: Load and Explore the Dataset\n",
    "We begin by loading the **Iris dataset**, inspecting the first few rows, \n",
    "checking the structure, and handling any missing values.\n"
   ]
  },
  {
   "cell_type": "code",
   "execution_count": null,
   "id": "b023ce19",
   "metadata": {},
   "outputs": [],
   "source": [
    "\n",
    "# Load the Iris dataset\n",
    "iris = load_iris(as_frame=True)\n",
    "df = iris.frame\n",
    "\n",
    "# Display first rows\n",
    "df.head()\n"
   ]
  },
  {
   "cell_type": "code",
   "execution_count": null,
   "id": "948b13a8",
   "metadata": {},
   "outputs": [],
   "source": [
    "\n",
    "# Dataset info and missing values check\n",
    "df.info()\n",
    "df.isnull().sum()\n"
   ]
  },
  {
   "cell_type": "markdown",
   "id": "26feb8b9",
   "metadata": {},
   "source": [
    "\n",
    "## 🔹 Task 2: Basic Data Analysis\n",
    "We compute descriptive statistics, group the data by species, \n",
    "and identify patterns in the dataset.\n"
   ]
  },
  {
   "cell_type": "code",
   "execution_count": null,
   "id": "1936918d",
   "metadata": {},
   "outputs": [],
   "source": [
    "\n",
    "# Descriptive statistics\n",
    "df.describe()\n"
   ]
  },
  {
   "cell_type": "code",
   "execution_count": null,
   "id": "00798e7b",
   "metadata": {},
   "outputs": [],
   "source": [
    "\n",
    "# Group by species (target) and compute mean values\n",
    "df.groupby(\"target\").mean()\n"
   ]
  },
  {
   "cell_type": "markdown",
   "id": "cc7f8d21",
   "metadata": {},
   "source": [
    "\n",
    "## 🔹 Task 3: Data Visualization\n",
    "We will create four different plots to better understand the dataset:\n",
    "1. Line Chart\n",
    "2. Bar Chart\n",
    "3. Histogram\n",
    "4. Scatter Plot\n"
   ]
  },
  {
   "cell_type": "code",
   "execution_count": null,
   "id": "af9ad47d",
   "metadata": {},
   "outputs": [],
   "source": [
    "\n",
    "# Line Chart: Sepal Length over index\n",
    "plt.figure(figsize=(6,4))\n",
    "plt.plot(df.index, df[\"sepal length (cm)\"], label=\"Sepal Length\")\n",
    "plt.title(\"Line Chart of Sepal Length over Index\")\n",
    "plt.xlabel(\"Index\")\n",
    "plt.ylabel(\"Sepal Length (cm)\")\n",
    "plt.legend()\n",
    "plt.show()\n"
   ]
  },
  {
   "cell_type": "code",
   "execution_count": null,
   "id": "27c07c0f",
   "metadata": {},
   "outputs": [],
   "source": [
    "\n",
    "# Bar Chart: Average Petal Length per Species\n",
    "plt.figure(figsize=(6,4))\n",
    "df.groupby(\"target\")[\"petal length (cm)\"].mean().plot(kind=\"bar\", color=\"skyblue\")\n",
    "plt.title(\"Average Petal Length per Species\")\n",
    "plt.xlabel(\"Species (target)\")\n",
    "plt.ylabel(\"Petal Length (cm)\")\n",
    "plt.show()\n"
   ]
  },
  {
   "cell_type": "code",
   "execution_count": null,
   "id": "26031b85",
   "metadata": {},
   "outputs": [],
   "source": [
    "\n",
    "# Histogram: Distribution of Sepal Length\n",
    "plt.figure(figsize=(6,4))\n",
    "plt.hist(df[\"sepal length (cm)\"], bins=15, color=\"green\", alpha=0.7)\n",
    "plt.title(\"Histogram of Sepal Length\")\n",
    "plt.xlabel(\"Sepal Length (cm)\")\n",
    "plt.ylabel(\"Frequency\")\n",
    "plt.show()\n"
   ]
  },
  {
   "cell_type": "code",
   "execution_count": null,
   "id": "6d29bfb5",
   "metadata": {},
   "outputs": [],
   "source": [
    "\n",
    "# Scatter Plot: Sepal Length vs Petal Length\n",
    "plt.figure(figsize=(6,4))\n",
    "plt.scatter(df[\"sepal length (cm)\"], df[\"petal length (cm)\"], c=df[\"target\"], cmap=\"viridis\")\n",
    "plt.title(\"Scatter Plot: Sepal Length vs Petal Length\")\n",
    "plt.xlabel(\"Sepal Length (cm)\")\n",
    "plt.ylabel(\"Petal Length (cm)\")\n",
    "plt.colorbar(label=\"Species (target)\")\n",
    "plt.show()\n"
   ]
  },
  {
   "cell_type": "markdown",
   "id": "7608b5db",
   "metadata": {},
   "source": [
    "\n",
    "## ✅ Conclusion\n",
    "- Setosa has the smallest petal dimensions, while Virginica has the largest.  \n",
    "- Sepal length shows a relatively wide distribution across species.  \n",
    "- The scatter plot reveals clear clustering of species based on petal and sepal size.  \n",
    "\n",
    "This project demonstrates the use of **Pandas** for analysis and **Matplotlib/Seaborn** for visualization.\n"
   ]
  }
 ],
 "metadata": {},
 "nbformat": 4,
 "nbformat_minor": 5
}
